{
 "cells": [
  {
   "cell_type": "markdown",
   "metadata": {},
   "source": [
    "# Implementation\n",
    "\n",
    "In the previous code, I have implemented all the tools needed to make a fully automised monthly report maker (except for the mailing part). There are several main goals to achieve with this function:\n",
    "\n",
    "1. Data treatment (NaNs esp)\n",
    "2. Creation of relevant numbers and graphs\n",
    "3. Creation of word document\n",
    "4. Saving word document report and graphs in a dedicated folder\n",
    "\n",
    "For every CPO that needs a report."
   ]
  },
  {
   "cell_type": "markdown",
   "metadata": {},
   "source": [
    "### CPO reports\n",
    "\n",
    "There are 2 types of CPOs: EZ drive and Non-EZ drive\n",
    "\n",
    "All reports need:\n",
    "\n",
    "**Numbers**\n",
    "-Nombre de points de charges\n",
    "-Nombres de recharges mensuel\n",
    "-Temps moyen d'une charge (min)\n",
    "-Consommation Mensuelle (kWh)\n",
    "\n",
    "**Graphs**\n",
    "-Daily number of charges\n",
    "-Daily amount of charges\n",
    "\n",
    "**Non EZ-drive**\n",
    "Estimation cout mensuel\n",
    "\n",
    "**EZ-drive**\n",
    "Retribution sur l'energie consommee\n",
    "\n",
    "\n"
   ]
  },
  {
   "cell_type": "markdown",
   "metadata": {},
   "source": [
    "## 1. Read and treat database"
   ]
  },
  {
   "cell_type": "code",
   "execution_count": 1,
   "metadata": {},
   "outputs": [],
   "source": [
    "import pandas as pd\n",
    "import numpy as np\n",
    "from datetime import datetime, timedelta\n",
    "import matplotlib.pyplot as plt\n",
    "from docx import Document\n",
    "import os\n",
    "import datetime\n",
    "import time"
   ]
  },
  {
   "cell_type": "code",
   "execution_count": null,
   "metadata": {},
   "outputs": [
    {
     "name": "stderr",
     "output_type": "stream",
     "text": [
      "/home/stella/anaconda3/lib/python3.8/site-packages/pandas/core/indexing.py:1637: SettingWithCopyWarning: \n",
      "A value is trying to be set on a copy of a slice from a DataFrame\n",
      "\n",
      "See the caveats in the documentation: https://pandas.pydata.org/pandas-docs/stable/user_guide/indexing.html#returning-a-view-versus-a-copy\n",
      "  self._setitem_single_block(indexer, value, name)\n"
     ]
    }
   ],
   "source": [
    "#enter dates of report\n",
    "month = '08'\n",
    "year = '2022'\n",
    "date_start = '01'\n",
    "date_end = '31'\n",
    "\n",
    "charge_events_filename = 'cpochargeevents_'+date_start+'.'+month+'.'+year+' - '+date_end+'.'+month+'.'+year+'.csv'\n",
    "charge_events = pd.read_csv(charge_events_filename,skiprows=1) #load the csv charge events file into pandas dataframe\n",
    "charge_events['Energy (Wh)'] = charge_events['Energy (Wh)']/1000 #change Wh to kWh\n",
    "charge_events.rename(columns = {'Energy (Wh)':'Energy (kWh)'})\n",
    "time_24 = ['Created','Stop time','Start time']\n",
    "charge_events[time_24] = charge_events[time_24].apply(pd.to_datetime,format = '%Y-%m-%d %H:%M:%S') #apply date time format to columns w dates\n",
    "missing_stop_time_idx = np.where(charge_events['Stop time'].isnull())\n",
    "charge_events['Stop time'].loc[missing_stop_time_idx] = charge_events['Start time'].loc[missing_stop_time_idx]+timedelta(hours=1) #adding 1 hour to NaN values\n",
    "charge_events['Date'] = charge_events['Start time'].dt.date #create a new column with just the date of the start of the charge\n",
    "\n",
    "\n"
   ]
  },
  {
   "cell_type": "markdown",
   "metadata": {},
   "source": [
    "## 2. Groupby - for every CPO, generate the necessary data for the report\n",
    "\n",
    "Loop for every unique CPO name to create and save the two graphs and report.\n"
   ]
  },
  {
   "cell_type": "code",
   "execution_count": null,
   "metadata": {},
   "outputs": [
    {
     "data": {
      "image/png": "[encoded data removed]",
      "text/plain": [
       "<Figure size 640x480 with 1 Axes>"
      ]
     },
     "metadata": {},
     "output_type": "display_data"
    }
   ],
   "source": [
    "\n",
    "test_CPO = charge_events.groupby(['CPO name']).get_group(test) #get the info for a single CPO\n",
    "test_CPO_energy = test_CPO.groupby('Date')['Energy (Wh)'].sum()#sum all the energy used by this cpo for each date he/she recharged \n",
    "test_CPO_count = test_CPO.groupby('Date')['Charge ID'].count()#count each time they used a borne for every date\n",
    "\n",
    "#plot daily energy bar chart\n",
    "bar_energy = test_CPO_energy.plot(kind= 'bar')\n",
    "bar_energy.set_ylabel('Energy (Wh)')\n",
    "bar_energy.set_title('Energie consommee par '+ test)\n",
    "bar_energy.set_xticklabels(pd.to_datetime(test_CPO_energy.index).date,rotation = 45)\n",
    "\n",
    "#plot daily usage count bar chart\n",
    "bar_count = test_CPO_count.plot(kind='bar')\n",
    "bar_count.set_ylabel('Nombre de recharges')\n",
    "bar_count.set_title('Nombre de recharges par '+ test)\n",
    "bar_count.set_xticklabels(pd.to_datetime(test_CPO_energy.index).date,rotation = 45)\n",
    "bar_count.set_yticks(test_CPO_count.unique())\n",
    "\n",
    "#get other relevant information needed for the report\n",
    "retribution = 1 \n",
    "no_de_points = len(test_CPO['Station ID'].unique())\n",
    "no_de_recharges_mensuels = test_CPO_count.sum()\n",
    "temps_moyen_de_charge = test_CPO['Duration'].mean()\n",
    "conso_total = test_CPO_energy.sum()"
   ]
  }
 ],
 "metadata": {
  "kernelspec": {
   "display_name": "Python 3.8.8 ('base')",
   "language": "python",
   "name": "python3"
  },
  "language_info": {
   "codemirror_mode": {
    "name": "ipython",
    "version": 3
   },
   "file_extension": ".py",
   "mimetype": "text/x-python",
   "name": "python",
   "nbconvert_exporter": "python",
   "pygments_lexer": "ipython3",
   "version": "3.8.8"
  },
  "orig_nbformat": 4,
  "vscode": {
   "interpreter": {
    "hash": "47f98fb51dab28e5162d7000e4dee2c297624171d328e96e9b3932d415b721be"
   }
  }
 },
 "nbformat": 4,
 "nbformat_minor": 2
}
