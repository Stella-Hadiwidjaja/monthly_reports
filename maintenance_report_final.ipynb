{
 "cells": [
  {
   "cell_type": "markdown",
   "metadata": {},
   "source": [
    "# Implementation\n",
    "\n",
    "In the previous code, I have implemented all the tools needed to make a fully automised monthly report maker (except for the mailing part). There are several main goals to achieve with this function:\n",
    "\n",
    "1. Data treatment (NaNs esp)\n",
    "2. Creation of relevant numbers and graphs\n",
    "3. Creation of word document\n",
    "4. Saving word document report and graphs in a dedicated folder\n",
    "\n",
    "For every CPO that needs a report."
   ]
  },
  {
   "cell_type": "markdown",
   "metadata": {},
   "source": [
    "### CPO reports\n",
    "\n",
    "There are 2 types of CPOs: EZ drive and Non-EZ drive\n",
    "\n",
    "All reports need:\n",
    "\n",
    "**Numbers**\n",
    "-Nombre de points de charges\n",
    "-Nombres de recharges mensuel\n",
    "-Temps moyen d'une charge (min)\n",
    "-Consommation Mensuelle (kWh)\n",
    "\n",
    "**Graphs**\n",
    "-Daily number of charges\n",
    "-Daily amount of charges\n",
    "\n",
    "**Non EZ-drive**\n",
    "Estimation cout mensuel\n",
    "\n",
    "**EZ-drive**\n",
    "Retribution sur l'energie consommee\n",
    "\n",
    "\n"
   ]
  },
  {
   "cell_type": "markdown",
   "metadata": {},
   "source": [
    "## 1. Read and treat database"
   ]
  },
  {
   "cell_type": "code",
   "execution_count": 83,
   "metadata": {},
   "outputs": [],
   "source": [
    "import pandas as pd\n",
    "import numpy as np\n",
    "from datetime import datetime, timedelta\n",
    "import matplotlib.pyplot as plt\n",
    "from docx import Document\n",
    "from docx.enum.text import WD_ALIGN_PARAGRAPH\n",
    "import os\n",
    "import datetime\n",
    "import time\n",
    "from docx.shared import Inches\n"
   ]
  },
  {
   "cell_type": "code",
   "execution_count": 2,
   "metadata": {},
   "outputs": [
    {
     "name": "stderr",
     "output_type": "stream",
     "text": [
      "/home/stella/anaconda3/lib/python3.8/site-packages/pandas/core/indexing.py:1637: SettingWithCopyWarning: \n",
      "A value is trying to be set on a copy of a slice from a DataFrame\n",
      "\n",
      "See the caveats in the documentation: https://pandas.pydata.org/pandas-docs/stable/user_guide/indexing.html#returning-a-view-versus-a-copy\n",
      "  self._setitem_single_block(indexer, value, name)\n"
     ]
    }
   ],
   "source": [
    "#enter dates of report\n",
    "month = '08'\n",
    "year = '2022'\n",
    "date_start = '01'\n",
    "date_end = '31'\n",
    "\n",
    "charge_events_filename = 'cpochargeevents_'+date_start+'.'+month+'.'+year+' - '+date_end+'.'+month+'.'+year+'.csv'\n",
    "charge_events = pd.read_csv(charge_events_filename,skiprows=1) #load the csv charge events file into pandas dataframe\n",
    "charge_events['Energy (Wh)'] = charge_events['Energy (Wh)']/1000 #change Wh to kWh\n",
    "charge_events.rename(columns = {'Energy (Wh)':'Energy (kWh)'})\n",
    "time_24 = ['Created','Stop time','Start time']\n",
    "charge_events[time_24] = charge_events[time_24].apply(pd.to_datetime,format = '%Y-%m-%d %H:%M:%S') #apply date time format to columns w dates\n",
    "missing_stop_time_idx = np.where(charge_events['Stop time'].isnull())\n",
    "charge_events['Stop time'].loc[missing_stop_time_idx] = charge_events['Start time'].loc[missing_stop_time_idx]+timedelta(hours=1) #adding 1 hour to NaN values\n",
    "charge_events['Date'] = charge_events['Start time'].dt.date #create a new column with just the date of the start of the charge\n",
    "\n",
    "\n"
   ]
  },
  {
   "cell_type": "markdown",
   "metadata": {},
   "source": [
    "## 2. Groupby - for every CPO, generate the necessary data for the report\n",
    "\n",
    "Loop for every unique CPO name to create and save the two graphs and report.\n"
   ]
  },
  {
   "cell_type": "code",
   "execution_count": 81,
   "metadata": {},
   "outputs": [],
   "source": [
    "monthly_filepath = '/home/stella/Documents/GT/monthly_reports/'\n",
    "try:\n",
    "    os.mkdir(monthly_filepath+month+'-'+year)#creates a folder for current month\n",
    "except FileExistsError: # in case the folder alrdy exists\n",
    "    pass\n",
    "\n",
    "try:\n",
    "    os.mkdir(monthly_filepath+month+'-'+year+'/E.Zdrive') #creates folder for ez drive n non ezdrive \n",
    "except FileExistsError:\n",
    "    pass\n",
    "\n",
    "try:\n",
    "        os.mkdir(monthly_filepath+month+'-'+year+'/Non E.Zdrive')\n",
    "except FileExistsError:\n",
    "    pass\n",
    "\n",
    "# in the case of non-EZ drive, this is the CPO. If EZ drive, this is the name of the station\n",
    "\n",
    "for CPO in charge_events['CPO name'].unique():\n",
    "    \n",
    "    #if the CPO is EZ drive, make a report for each station\n",
    "    if CPO != 'EZ DRIVE':\n",
    "\n",
    "        try:\n",
    "            os.mkdir(monthly_filepath+month+'-'+year+'/Non E.Zdrive/'+CPO)#creates a folder for current month\n",
    "        except FileExistsError: # in case the folder alrdy exists\n",
    "            pass  \n",
    "    \n",
    "            \n",
    "        test_CPO = charge_events.groupby(['CPO name']).get_group(CPO) #get the info for a single CPO\n",
    "        test_CPO_energy = test_CPO.groupby('Date')['Energy (Wh)'].sum()#sum all the energy used by this cpo for each date he/she recharged \n",
    "        test_CPO_count = test_CPO.groupby('Date')['Charge ID'].count()#count each time they used a borne for every date\n",
    "\n",
    "        #plot daily energy bar chart\n",
    "        plt.figure()\n",
    "        bar_energy = test_CPO_energy.plot(kind= 'bar',figsize=(8,3))\n",
    "        bar_energy.set_ylabel('Energy (Wh)')\n",
    "        bar_energy.set_title('Energie consommée par '+ CPO)\n",
    "        bar_energy.set_xticklabels(pd.to_datetime(test_CPO_energy.index).date,rotation = 45)\n",
    "        bar_energy.figure.savefig(monthly_filepath+month+'-'+year+'/Non E.Zdrive/'+CPO+'/bar_energy.png',dpi=300,bbox_inches='tight')\n",
    "        plt.close()\n",
    "\n",
    "        #plot daily usage count bar chart\n",
    "        plt.figure()\n",
    "        bar_count = test_CPO_count.plot(kind='bar',figsize=(8,3))\n",
    "        bar_count.set_ylabel('Nombre de recharges')\n",
    "        bar_count.set_title('Nombre de recharges par '+ CPO)\n",
    "        bar_count.set_xticklabels(pd.to_datetime(test_CPO_energy.index).date,rotation = 45)\n",
    "        bar_count.set_yticks(test_CPO_count.unique())\n",
    "        bar_count.figure.savefig(monthly_filepath+month+'-'+year+'/Non E.Zdrive/'+CPO+'/bar_count.png',dpi=300,bbox_inches='tight')\n",
    "        plt.close()\n",
    "\n",
    "        #get other relevant information needed for the report\n",
    "        retribution = test_CPO['Price'].sum() #check w clemence this is how its calculated\n",
    "        no_de_points = len(test_CPO['Station ID'].unique())\n",
    "        no_de_recharges_mensuels = test_CPO_count.sum()\n",
    "        temps_moyen_de_charge = test_CPO['Duration'].mean()\n",
    "        conso_total = test_CPO_energy.sum()\n",
    "\n",
    "        \n",
    "        \n",
    "\n",
    "\n"
   ]
  },
  {
   "cell_type": "code",
   "execution_count": 23,
   "metadata": {},
   "outputs": [],
   "source": [
    "charge_events_EZ =  charge_events[charge_events['CPO name']=='EZ DRIVE']\n",
    "EZ_stations = charge_events_EZ['Station name'].unique()"
   ]
  },
  {
   "cell_type": "code",
   "execution_count": 55,
   "metadata": {},
   "outputs": [],
   "source": [
    "a = test_CPO['Location type'].unique()[0]\n"
   ]
  },
  {
   "cell_type": "markdown",
   "metadata": {},
   "source": [
    "### Creating a Document \n"
   ]
  },
  {
   "cell_type": "code",
   "execution_count": 93,
   "metadata": {},
   "outputs": [],
   "source": [
    "#def create_report(CPO,month,year,test_CPO):\n",
    "document = Document()\n",
    "\n",
    "header = document.sections[0].header\n",
    "paragraph = header.paragraphs[0]\n",
    "\n",
    "logo_run = paragraph.add_run()\n",
    "logo_run.add_picture(\"logo.jpg\", width=Inches(1))\n",
    "\n",
    "text_run.text = '\\t' + \"Rapport de télégestion IRVE\" # For center align of text\n",
    "text_run.style = \"Heading 1 Char\"\n",
    "\n",
    "document.add_heading(\"Rapport de télégestion IRVE\", 0) #titre\n",
    "document.add_heading(CPO + ' | '+month+' / '+ year,1) #sous-titre\n",
    "if len(test_CPO['Location type'].unique()) == 1: #publique ou privee, departement\n",
    "    document.add_heading(test_CPO['Location type'].unique(),4) \n",
    "else: \n",
    "    document.add_heading(' & '.join(test_CPO['Location type'].unique()),4) \n",
    "\n",
    "document.add_heading('Rapport Opérationel',2)\n",
    "para = document.add_paragraph('Nombre de points de charge = '+str(no_de_points)+'\\nNombre de recharges mensuel = '+str(no_de_recharges_mensuels)+\"\\nTemps moyen d'une charge (min) = \"+  str(int(temps_moyen_de_charge))+'\\nConsommation mensuelle (kWh) = '+str(np.round(conso_total,2)))\n",
    "document.add_paragraph(\"_____________________________________________\")\n",
    "document.paragraphs[-1].alignment = WD_ALIGN_PARAGRAPH.CENTER\n",
    "document.add_heading('Nombre de recharges',2)\n",
    "bar_count_png = monthly_filepath+month+'-'+year+'/Non E.Zdrive/'+CPO+'/bar_count.png'\n",
    "document.add_picture(bar_count_png,width=Inches(3.5))\n",
    "document.paragraphs[-1].alignment = WD_ALIGN_PARAGRAPH.CENTER\n",
    "document.add_paragraph(\"_____________________________________________\")\n",
    "document.paragraphs[-1].alignment = WD_ALIGN_PARAGRAPH.CENTER\n",
    "document.add_heading('Energie consommée en kWh',2)\n",
    "bar_energy_png = monthly_filepath+month+'-'+year+'/Non E.Zdrive/'+CPO+'/bar_energy.png'\n",
    "document.add_picture(bar_energy_png,width=Inches(3.5))\n",
    "document.paragraphs[-1].alignment = WD_ALIGN_PARAGRAPH.CENTER\n",
    "\n",
    "\n",
    "document.save('test_report.docx')\n",
    "##later add a  country thingy\n",
    "\n",
    "\n"
   ]
  }
 ],
 "metadata": {
  "kernelspec": {
   "display_name": "Python 3.8.8 ('base')",
   "language": "python",
   "name": "python3"
  },
  "language_info": {
   "codemirror_mode": {
    "name": "ipython",
    "version": 3
   },
   "file_extension": ".py",
   "mimetype": "text/x-python",
   "name": "python",
   "nbconvert_exporter": "python",
   "pygments_lexer": "ipython3",
   "version": "3.8.8"
  },
  "orig_nbformat": 4,
  "vscode": {
   "interpreter": {
    "hash": "47f98fb51dab28e5162d7000e4dee2c297624171d328e96e9b3932d415b721be"
   }
  }
 },
 "nbformat": 4,
 "nbformat_minor": 2
}
